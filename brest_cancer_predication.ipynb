{
  "nbformat": 4,
  "nbformat_minor": 0,
  "metadata": {
    "colab": {
      "provenance": [],
      "authorship_tag": "ABX9TyPqtusnNSQcya2ZrPY5enos",
      "include_colab_link": true
    },
    "kernelspec": {
      "name": "python3",
      "display_name": "Python 3"
    },
    "language_info": {
      "name": "python"
    }
  },
  "cells": [
    {
      "cell_type": "markdown",
      "metadata": {
        "id": "view-in-github",
        "colab_type": "text"
      },
      "source": [
        "<a href=\"https://colab.research.google.com/github/SahilKadaskar/BreastCancerPredication/blob/main/brest_cancer_predication.ipynb\" target=\"_parent\"><img src=\"https://colab.research.google.com/assets/colab-badge.svg\" alt=\"Open In Colab\"/></a>"
      ]
    },
    {
      "cell_type": "code",
      "execution_count": 3,
      "metadata": {
        "colab": {
          "base_uri": "https://localhost:8080/"
        },
        "id": "yN9gtdAMV2sX",
        "outputId": "2edc9a06-2cff-4ffd-d558-5b6a1e124570"
      },
      "outputs": [
        {
          "output_type": "stream",
          "name": "stderr",
          "text": [
            "/usr/local/lib/python3.11/dist-packages/sklearn/linear_model/_logistic.py:465: ConvergenceWarning: lbfgs failed to converge (status=1):\n",
            "STOP: TOTAL NO. OF ITERATIONS REACHED LIMIT.\n",
            "\n",
            "Increase the number of iterations (max_iter) or scale the data as shown in:\n",
            "    https://scikit-learn.org/stable/modules/preprocessing.html\n",
            "Please also refer to the documentation for alternative solver options:\n",
            "    https://scikit-learn.org/stable/modules/linear_model.html#logistic-regression\n",
            "  n_iter_i = _check_optimize_result(\n",
            "/usr/local/lib/python3.11/dist-packages/sklearn/linear_model/_logistic.py:465: ConvergenceWarning: lbfgs failed to converge (status=1):\n",
            "STOP: TOTAL NO. OF ITERATIONS REACHED LIMIT.\n",
            "\n",
            "Increase the number of iterations (max_iter) or scale the data as shown in:\n",
            "    https://scikit-learn.org/stable/modules/preprocessing.html\n",
            "Please also refer to the documentation for alternative solver options:\n",
            "    https://scikit-learn.org/stable/modules/linear_model.html#logistic-regression\n",
            "  n_iter_i = _check_optimize_result(\n"
          ]
        },
        {
          "output_type": "stream",
          "name": "stdout",
          "text": [
            "Classification Report:\n",
            "               precision    recall  f1-score   support\n",
            "\n",
            "           0       0.94      0.92      0.93        63\n",
            "           1       0.95      0.96      0.96       108\n",
            "\n",
            "    accuracy                           0.95       171\n",
            "   macro avg       0.94      0.94      0.94       171\n",
            "weighted avg       0.95      0.95      0.95       171\n",
            "\n",
            "ROC AUC Score: 0.9918430335097002\n",
            "Selected Features: ['mean radius', 'mean concavity', 'mean concave points', 'perimeter error', 'worst radius', 'worst smoothness', 'worst compactness', 'worst concavity', 'worst concave points', 'worst symmetry']\n"
          ]
        }
      ],
      "source": [
        "\n",
        "# Breast Cancer Prediction using Hybrid Feature Selection and Random Forest\n",
        "import pandas as pd\n",
        "import numpy as np\n",
        "from sklearn.datasets import load_breast_cancer\n",
        "from sklearn.model_selection import train_test_split\n",
        "from sklearn.ensemble import RandomForestClassifier\n",
        "from sklearn.feature_selection import SelectKBest, f_classif, RFE\n",
        "from sklearn.linear_model import LogisticRegression\n",
        "from sklearn.metrics import classification_report, roc_auc_score\n",
        "\n",
        "# Load clinical dataset\n",
        "data = load_breast_cancer()\n",
        "X_clinical = pd.DataFrame(data.data, columns=data.feature_names)\n",
        "y = data.target\n",
        "\n",
        "# Add synthetic demographic/lifestyle features\n",
        "np.random.seed(42)\n",
        "X_demo_life = pd.DataFrame({\n",
        "    'age': np.random.randint(30, 80, size=X_clinical.shape[0]),\n",
        "    'family_history': np.random.randint(0, 2, size=X_clinical.shape[0]),\n",
        "    'menopausal_status': np.random.randint(0, 2, size=X_clinical.shape[0]),\n",
        "    'alcohol_use': np.random.uniform(0, 5, size=X_clinical.shape[0]),\n",
        "    'physical_activity': np.random.randint(0, 4, size=X_clinical.shape[0]),\n",
        "    'BMI': np.random.uniform(18, 35, size=X_clinical.shape[0])\n",
        "})\n",
        "\n",
        "# Combine all features\n",
        "X = pd.concat([X_clinical, X_demo_life], axis=1)\n",
        "\n",
        "# Filter method: Select top 20 features using ANOVA F-test\n",
        "filter_selector = SelectKBest(score_func=f_classif, k=20)\n",
        "X_filtered = filter_selector.fit_transform(X, y)\n",
        "selected_filter_features = X.columns[filter_selector.get_support()]\n",
        "\n",
        "# Wrapper method: RFE with Logistic Regression to select top 10 from the filtered ones\n",
        "model_lr = LogisticRegression(max_iter=1500)\n",
        "rfe = RFE(model_lr, n_features_to_select=10)\n",
        "X_rfe = rfe.fit_transform(X[selected_filter_features], y)\n",
        "selected_rfe_features = selected_filter_features[rfe.get_support()]\n",
        "\n",
        "# Prepare final dataset\n",
        "X_final = X[selected_rfe_features]\n",
        "\n",
        "# Train-test split\n",
        "X_train, X_test, y_train, y_test = train_test_split(X_final, y, test_size=0.3, random_state=42)\n",
        "\n",
        "# Train Random Forest model\n",
        "model = RandomForestClassifier(random_state=42)\n",
        "model.fit(X_train, y_train)\n",
        "\n",
        "# Predictions and evaluation\n",
        "y_pred = model.predict(X_test)\n",
        "y_proba = model.predict_proba(X_test)[:, 1]\n",
        "print(\"Classification Report:\\n\", classification_report(y_test, y_pred))\n",
        "print(\"ROC AUC Score:\", roc_auc_score(y_test, y_proba))\n",
        "print(\"Selected Features:\", list(selected_rfe_features))\n"
      ]
    }
  ]
}